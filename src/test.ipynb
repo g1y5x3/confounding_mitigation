{
 "cells": [
  {
   "cell_type": "code",
   "execution_count": 10,
   "metadata": {},
   "outputs": [],
   "source": [
    "import sys, copy, torch, argparse\n",
    "import numpy as np\n",
    "import torch.nn.functional as F\n",
    "from torch import nn\n",
    "from tqdm import tqdm\n",
    "from torch.utils.data import DataLoader\n",
    "\n",
    "from sEMG_transformer_loo import load_raw_signals, sEMGSignalDataset, sEMGtransformer, count_correct"
   ]
  },
  {
   "cell_type": "code",
   "execution_count": 2,
   "metadata": {},
   "outputs": [],
   "source": [
    "parser = argparse.ArgumentParser(description=\"sEMG transformer training configurations\")\n",
    "# experiment config\n",
    "parser.add_argument('--sub_idx', type=int, default=0, help=\"subject index\")\n",
    "# training config\n",
    "parser.add_argument('--seed', type=int, default=0, help=\"random seed\")\n",
    "parser.add_argument('--epochs', type=int, default=1000, help=\"number of epochs\")\n",
    "parser.add_argument('--bsz', type=int, default=32, help=\"batch size\")\n",
    "# optimizer config\n",
    "parser.add_argument('--lr', type=float, default=0.001, help=\"learning rate\")\n",
    "parser.add_argument('--wd', type=float, default=0.01, help=\"weight decay\")\n",
    "parser.add_argument('--step_size', type=int, default=250, help=\"lr scheduler step size\")\n",
    "parser.add_argument('--gamma', type=float, default=0.8, help=\"lr scheduler gamma\")\n",
    "# model config\n",
    "parser.add_argument('--psz', type=int, default=64, help=\"signal patch size\")\n",
    "parser.add_argument('--d_model', type=int, default=512, help=\"transformer embedding dim\")\n",
    "parser.add_argument('--nhead', type=int, default=8, help=\"transformer number of attention heads\")\n",
    "parser.add_argument('--dim_feedforward', type=int, default=2048, help=\"transformer feed-forward dim\")\n",
    "parser.add_argument('--num_layers', type=int, default=1, help=\"number of transformer encoder layers\")\n",
    "parser.add_argument('--dropout', type=float, default=0.1, help=\"dropout rate\")\n",
    "\n",
    "sys.argv = ['f']\n",
    "config = parser.parse_args()"
   ]
  },
  {
   "cell_type": "code",
   "execution_count": 3,
   "metadata": {},
   "outputs": [
    {
     "data": {
      "text/plain": [
       "<torch._C.Generator at 0x7f8caeb4d790>"
      ]
     },
     "execution_count": 3,
     "metadata": {},
     "output_type": "execute_result"
    }
   ],
   "source": [
    "signals, labels, vfi_1, sub_id, sub_skinfold = load_raw_signals(\"../data/subjects_40_v6.mat\")\n",
    "np.random.seed(config.seed)\n",
    "torch.manual_seed(config.seed)"
   ]
  },
  {
   "cell_type": "code",
   "execution_count": 4,
   "metadata": {},
   "outputs": [
    {
     "name": "stdout",
     "output_type": "stream",
     "text": [
      "Subject R44\n"
     ]
    }
   ],
   "source": [
    "sub_test = config.sub_idx\n",
    "print(f\"Subject R{sub_id[config.sub_idx][0][0][0]}\")\n",
    "\n",
    "X, Y, C = [], [], []\n",
    "for i in range(40):\n",
    "  # stack all inputs into [N,C,L] format\n",
    "  x = np.stack(signals[i], axis=1)\n",
    "\n",
    "  # one-hot encode the binary labels\n",
    "  N = labels[i][0].shape[0]\n",
    "  mapped_indices = (labels[i][0] == 1).astype(int)\n",
    "  y_onehot = np.zeros((N, 2))\n",
    "  y_onehot[np.arange(N), mapped_indices.flatten()] = 1\n",
    "\n",
    "  X.append(x)\n",
    "  Y.append(y_onehot)\n",
    "  C.append(sub_skinfold[i][0].mean(axis=1))\n"
   ]
  },
  {
   "cell_type": "code",
   "execution_count": 5,
   "metadata": {},
   "outputs": [
    {
     "name": "stdout",
     "output_type": "stream",
     "text": [
      "X (6472, 4, 4000)\n",
      "X_train (5676, 4, 4000)\n",
      "X_valid (631, 4, 4000)\n",
      "X_test (165, 4, 4000)\n"
     ]
    },
    {
     "name": "stderr",
     "output_type": "stream",
     "text": [
      "/opt/conda/lib/python3.10/site-packages/torch/nn/modules/transformer.py:286: UserWarning: enable_nested_tensor is True, but self.use_nested_tensor is False because encoder_layer.norm_first was True\n",
      "  warnings.warn(f\"enable_nested_tensor is True, but self.use_nested_tensor is False because {why_not_sparsity_fast_path}\")\n",
      "Training:   0%|          | 1/1000 [00:01<21:10,  1.27s/it]"
     ]
    },
    {
     "name": "stdout",
     "output_type": "stream",
     "text": [
      "accuracy_valid_best: 0.5768621236133122\n",
      "accuracy_test_best: 0.09696969696969697\n"
     ]
    },
    {
     "name": "stderr",
     "output_type": "stream",
     "text": [
      "Training:   0%|          | 2/1000 [00:02<18:40,  1.12s/it]"
     ]
    },
    {
     "name": "stdout",
     "output_type": "stream",
     "text": [
      "accuracy_valid_best: 0.6973058637083994\n",
      "accuracy_test_best: 0.7393939393939394\n"
     ]
    },
    {
     "name": "stderr",
     "output_type": "stream",
     "text": [
      "Training:   0%|          | 3/1000 [00:03<17:53,  1.08s/it]"
     ]
    },
    {
     "name": "stdout",
     "output_type": "stream",
     "text": [
      "accuracy_valid_best: 0.7242472266244057\n",
      "accuracy_test_best: 0.6666666666666666\n"
     ]
    },
    {
     "name": "stderr",
     "output_type": "stream",
     "text": [
      "Training:   1%|          | 6/1000 [00:06<16:59,  1.03s/it]"
     ]
    },
    {
     "name": "stdout",
     "output_type": "stream",
     "text": [
      "accuracy_valid_best: 0.7432646592709984\n",
      "accuracy_test_best: 0.8\n"
     ]
    },
    {
     "name": "stderr",
     "output_type": "stream",
     "text": [
      "Training:   1%|          | 12/1000 [00:12<16:31,  1.00s/it]"
     ]
    },
    {
     "name": "stdout",
     "output_type": "stream",
     "text": [
      "accuracy_valid_best: 0.7591125198098256\n",
      "accuracy_test_best: 0.6424242424242425\n"
     ]
    },
    {
     "name": "stderr",
     "output_type": "stream",
     "text": [
      "Training:   1%|▏         | 14/1000 [00:14<16:32,  1.01s/it]"
     ]
    },
    {
     "name": "stdout",
     "output_type": "stream",
     "text": [
      "accuracy_valid_best: 0.7638668779714739\n",
      "accuracy_test_best: 0.6727272727272727\n"
     ]
    },
    {
     "name": "stderr",
     "output_type": "stream",
     "text": [
      "Training:   2%|▏         | 24/1000 [00:24<16:21,  1.01s/it]"
     ]
    },
    {
     "name": "stdout",
     "output_type": "stream",
     "text": [
      "accuracy_valid_best: 0.7702060221870047\n",
      "accuracy_test_best: 0.7090909090909091\n"
     ]
    },
    {
     "name": "stderr",
     "output_type": "stream",
     "text": [
      "Training:   3%|▎         | 28/1000 [00:28<18:49,  1.16s/it]"
     ]
    },
    {
     "name": "stdout",
     "output_type": "stream",
     "text": [
      "accuracy_valid_best: 0.7765451664025357\n",
      "accuracy_test_best: 0.8121212121212121\n"
     ]
    },
    {
     "name": "stderr",
     "output_type": "stream",
     "text": [
      "Training:   4%|▍         | 38/1000 [00:39<16:11,  1.01s/it]"
     ]
    },
    {
     "name": "stdout",
     "output_type": "stream",
     "text": [
      "accuracy_valid_best: 0.7781299524564184\n",
      "accuracy_test_best: 0.7757575757575758\n"
     ]
    },
    {
     "name": "stderr",
     "output_type": "stream",
     "text": [
      "Training:   7%|▋         | 71/1000 [01:11<15:45,  1.02s/it]"
     ]
    },
    {
     "name": "stdout",
     "output_type": "stream",
     "text": [
      "accuracy_valid_best: 0.7844690966719493\n",
      "accuracy_test_best: 0.8121212121212121\n"
     ]
    },
    {
     "name": "stderr",
     "output_type": "stream",
     "text": [
      "Training:   7%|▋         | 72/1000 [01:12<15:59,  1.03s/it]"
     ]
    },
    {
     "name": "stdout",
     "output_type": "stream",
     "text": [
      "accuracy_valid_best: 0.786053882725832\n",
      "accuracy_test_best: 0.7575757575757576\n"
     ]
    },
    {
     "name": "stderr",
     "output_type": "stream",
     "text": [
      "Training:   7%|▋         | 74/1000 [01:14<16:15,  1.05s/it]"
     ]
    },
    {
     "name": "stdout",
     "output_type": "stream",
     "text": [
      "accuracy_valid_best: 0.8114104595879557\n",
      "accuracy_test_best: 0.6666666666666666\n"
     ]
    },
    {
     "name": "stderr",
     "output_type": "stream",
     "text": [
      "Training:  12%|█▏        | 117/1000 [01:58<15:02,  1.02s/it]"
     ]
    },
    {
     "name": "stdout",
     "output_type": "stream",
     "text": [
      "accuracy_valid_best: 0.8288431061806656\n",
      "accuracy_test_best: 0.5696969696969697\n"
     ]
    },
    {
     "name": "stderr",
     "output_type": "stream",
     "text": [
      "Training:  12%|█▎        | 125/1000 [02:06<15:25,  1.06s/it]"
     ]
    },
    {
     "name": "stdout",
     "output_type": "stream",
     "text": [
      "accuracy_valid_best: 0.8415213946117274\n",
      "accuracy_test_best: 0.6181818181818182\n"
     ]
    },
    {
     "name": "stderr",
     "output_type": "stream",
     "text": [
      "Training:  21%|██        | 209/1000 [03:29<13:39,  1.04s/it]"
     ]
    },
    {
     "name": "stdout",
     "output_type": "stream",
     "text": [
      "accuracy_valid_best: 0.8462757527733756\n",
      "accuracy_test_best: 0.6848484848484848\n"
     ]
    },
    {
     "name": "stderr",
     "output_type": "stream",
     "text": [
      "Training:  22%|██▏       | 216/1000 [03:36<14:12,  1.09s/it]"
     ]
    },
    {
     "name": "stdout",
     "output_type": "stream",
     "text": [
      "accuracy_valid_best: 0.8510301109350238\n",
      "accuracy_test_best: 0.6363636363636364\n"
     ]
    },
    {
     "name": "stderr",
     "output_type": "stream",
     "text": [
      "Training:  25%|██▌       | 251/1000 [04:12<12:06,  1.03it/s]"
     ]
    },
    {
     "name": "stdout",
     "output_type": "stream",
     "text": [
      "accuracy_valid_best: 0.8557844690966719\n",
      "accuracy_test_best: 0.5515151515151515\n"
     ]
    },
    {
     "name": "stderr",
     "output_type": "stream",
     "text": [
      "Training:  34%|███▍      | 345/1000 [05:45<10:36,  1.03it/s]"
     ]
    },
    {
     "name": "stdout",
     "output_type": "stream",
     "text": [
      "accuracy_valid_best: 0.8589540412044374\n",
      "accuracy_test_best: 0.5878787878787879\n"
     ]
    },
    {
     "name": "stderr",
     "output_type": "stream",
     "text": [
      "Training:  42%|████▏     | 417/1000 [06:54<08:31,  1.14it/s]"
     ]
    },
    {
     "name": "stdout",
     "output_type": "stream",
     "text": [
      "accuracy_valid_best: 0.8621236133122029\n",
      "accuracy_test_best: 0.6606060606060606\n"
     ]
    },
    {
     "name": "stderr",
     "output_type": "stream",
     "text": [
      "Training:  49%|████▉     | 488/1000 [07:57<07:37,  1.12it/s]"
     ]
    },
    {
     "name": "stdout",
     "output_type": "stream",
     "text": [
      "accuracy_valid_best: 0.8652931854199684\n",
      "accuracy_test_best: 0.6363636363636364\n"
     ]
    },
    {
     "name": "stderr",
     "output_type": "stream",
     "text": [
      "Training:  49%|████▉     | 492/1000 [08:00<07:35,  1.11it/s]"
     ]
    },
    {
     "name": "stdout",
     "output_type": "stream",
     "text": [
      "accuracy_valid_best: 0.8716323296354992\n",
      "accuracy_test_best: 0.6363636363636364\n"
     ]
    },
    {
     "name": "stderr",
     "output_type": "stream",
     "text": [
      "Training:  53%|█████▎    | 530/1000 [08:34<06:56,  1.13it/s]"
     ]
    },
    {
     "name": "stdout",
     "output_type": "stream",
     "text": [
      "accuracy_valid_best: 0.873217115689382\n",
      "accuracy_test_best: 0.6303030303030303\n"
     ]
    },
    {
     "name": "stderr",
     "output_type": "stream",
     "text": [
      "Training:  70%|██████▉   | 699/1000 [11:04<04:28,  1.12it/s]"
     ]
    },
    {
     "name": "stdout",
     "output_type": "stream",
     "text": [
      "accuracy_valid_best: 0.8763866877971473\n",
      "accuracy_test_best: 0.6909090909090909\n"
     ]
    },
    {
     "name": "stderr",
     "output_type": "stream",
     "text": [
      "Training:  72%|███████▏  | 717/1000 [11:21<04:19,  1.09it/s]"
     ]
    },
    {
     "name": "stdout",
     "output_type": "stream",
     "text": [
      "accuracy_valid_best: 0.8811410459587956\n",
      "accuracy_test_best: 0.5757575757575758\n"
     ]
    },
    {
     "name": "stderr",
     "output_type": "stream",
     "text": [
      "Training:  76%|███████▋  | 763/1000 [12:02<03:37,  1.09it/s]"
     ]
    },
    {
     "name": "stdout",
     "output_type": "stream",
     "text": [
      "accuracy_valid_best: 0.8827258320126783\n",
      "accuracy_test_best: 0.6242424242424243\n"
     ]
    },
    {
     "name": "stderr",
     "output_type": "stream",
     "text": [
      "Training:  77%|███████▋  | 770/1000 [12:09<03:28,  1.11it/s]"
     ]
    },
    {
     "name": "stdout",
     "output_type": "stream",
     "text": [
      "accuracy_valid_best: 0.884310618066561\n",
      "accuracy_test_best: 0.6545454545454545\n"
     ]
    },
    {
     "name": "stderr",
     "output_type": "stream",
     "text": [
      "Training:  79%|███████▉  | 788/1000 [12:25<03:10,  1.12it/s]"
     ]
    },
    {
     "name": "stdout",
     "output_type": "stream",
     "text": [
      "accuracy_valid_best: 0.8858954041204438\n",
      "accuracy_test_best: 0.6909090909090909\n"
     ]
    },
    {
     "name": "stderr",
     "output_type": "stream",
     "text": [
      "Training:  79%|███████▉  | 791/1000 [12:28<03:16,  1.06it/s]"
     ]
    },
    {
     "name": "stdout",
     "output_type": "stream",
     "text": [
      "accuracy_valid_best: 0.8890649762282092\n",
      "accuracy_test_best: 0.593939393939394\n"
     ]
    },
    {
     "name": "stderr",
     "output_type": "stream",
     "text": [
      "Training:  84%|████████▍ | 839/1000 [13:11<02:26,  1.10it/s]"
     ]
    },
    {
     "name": "stdout",
     "output_type": "stream",
     "text": [
      "accuracy_valid_best: 0.8922345483359746\n",
      "accuracy_test_best: 0.5818181818181818\n"
     ]
    },
    {
     "name": "stderr",
     "output_type": "stream",
     "text": [
      "Training: 100%|██████████| 1000/1000 [15:34<00:00,  1.07it/s]"
     ]
    },
    {
     "name": "stdout",
     "output_type": "stream",
     "text": [
      "accuracy_valid_best: 0.8922345483359746\n",
      "accuracy_test_best: 0.5818181818181818\n"
     ]
    },
    {
     "name": "stderr",
     "output_type": "stream",
     "text": [
      "\n"
     ]
    }
   ],
   "source": [
    "\n",
    "# normalize the signals channel-wise\n",
    "X_means = np.mean(np.concatenate(X, axis=0), axis=(0,2))\n",
    "X_stds = np.std(np.concatenate(X, axis=0), axis=(0,2))\n",
    "for i in range(40):\n",
    "  X[i] = (X[i] - X_means[np.newaxis,:,np.newaxis]) / X_stds[np.newaxis,:,np.newaxis]\n",
    "print(f\"X {np.concatenate(X, axis=0).shape}\")\n",
    "\n",
    "# leave-one-out split\n",
    "X_test, Y_test, C_test = X[sub_test], Y[sub_test], C[sub_test]\n",
    "X, Y, C = X[:sub_test] + X[sub_test+1:], Y[:sub_test] + Y[sub_test+1:], C[:sub_test] + C[sub_test+1:]\n",
    "X, Y, C = np.concatenate(X, axis=0), np.concatenate(Y, axis=0), np.concatenate(C, axis=0)\n",
    "\n",
    "num_samples = X.shape[0]\n",
    "indices = np.arange(num_samples)\n",
    "np.random.shuffle(indices)\n",
    "split_idx = int(num_samples*0.9)\n",
    "train_idx, valid_idx = indices[:split_idx], indices[split_idx:]\n",
    "\n",
    "X_train, X_valid = X[train_idx], X[valid_idx]\n",
    "Y_train, Y_valid = Y[train_idx], Y[valid_idx]\n",
    "C_train, C_valid = C[train_idx], C[valid_idx]\n",
    "print(f\"X_train {X_train.shape}\")\n",
    "print(f\"X_valid {X_valid.shape}\")\n",
    "print(f\"X_test {X_test.shape}\")\n",
    "\n",
    "dataset_train = sEMGSignalDataset(X_train, Y_train)\n",
    "dataset_valid = sEMGSignalDataset(X_valid, Y_valid)\n",
    "dataset_test  = sEMGSignalDataset(X_test, Y_test)\n",
    "\n",
    "dataloader_train = DataLoader(dataset_train, batch_size=config.bsz, shuffle=True)\n",
    "dataloader_valid = DataLoader(dataset_valid, batch_size=config.bsz, shuffle=False)\n",
    "dataloader_test  = DataLoader(dataset_test,  batch_size=config.bsz, shuffle=False)\n",
    "\n",
    "model = sEMGtransformer(patch_size=config.psz, d_model=config.d_model, nhead=config.nhead, dim_feedforward=config.dim_feedforward,\n",
    "                        dropout=config.dropout, num_layers=config.num_layers)\n",
    "model.to(\"cuda\")\n",
    "\n",
    "criterion = nn.CrossEntropyLoss()\n",
    "optimizer = torch.optim.AdamW(model.parameters(), lr=config.lr)\n",
    "scheduler = torch.optim.lr_scheduler.StepLR(optimizer, step_size=config.step_size, gamma=config.gamma)\n",
    "scaler = torch.cuda.amp.GradScaler()\n",
    "\n",
    "accuracy_valid_best = 0\n",
    "accuracy_test_best = 0\n",
    "model_best = None\n",
    "for epoch in tqdm(range(config.epochs), desc=\"Training\"):\n",
    "  loss_train = 0\n",
    "  correct_train = 0\n",
    "  model.train()\n",
    "  for batch, (inputs, targets) in enumerate(dataloader_train):\n",
    "    inputs, targets = inputs.to(\"cuda\"), targets.to(\"cuda\")\n",
    "    optimizer.zero_grad()\n",
    "    with torch.autocast(device_type=\"cuda\", dtype=torch.float16):\n",
    "      outputs = model(inputs)\n",
    "      loss = criterion(outputs, targets)\n",
    "\n",
    "    scaler.scale(loss).backward()\n",
    "    scaler.step(optimizer)\n",
    "    scaler.update()\n",
    "\n",
    "    correct_train += count_correct(outputs, targets)\n",
    "    loss_train += loss.item()\n",
    "\n",
    "  loss_valid = 0\n",
    "  correct_valid = 0\n",
    "  model.eval()\n",
    "  for inputs, targets in dataloader_valid:\n",
    "    inputs, targets = inputs.to(\"cuda\"), targets.to(\"cuda\")\n",
    "    outputs = model(inputs)\n",
    "    loss = criterion(outputs, targets)\n",
    "    correct_valid += count_correct(outputs, targets)\n",
    "    loss_valid += loss.item()\n",
    "\n",
    "  if correct_valid/len(dataset_valid) > accuracy_valid_best: \n",
    "    accuracy_valid_best = correct_valid/len(dataset_valid)\n",
    "    print(f\"accuracy_valid_best: {accuracy_valid_best}\")\n",
    "    model_best = copy.deepcopy(model)\n",
    "    correct_test = 0\n",
    "    for inputs, targets in dataloader_test:\n",
    "      inputs, targets = inputs.to(\"cuda\"), targets.to(\"cuda\")\n",
    "      outputs = model(inputs)\n",
    "      correct_test += count_correct(outputs, targets)\n",
    "    accuracy_test_best = correct_test/len(dataset_test)\n",
    "    print(f\"accuracy_test_best: {accuracy_test_best}\")\n",
    "\n",
    "  scheduler.step()\n",
    "\n",
    "print(f\"accuracy_valid_best: {accuracy_valid_best}\")\n",
    "print(f\"accuracy_test_best: {accuracy_test_best}\")"
   ]
  },
  {
   "cell_type": "code",
   "execution_count": 6,
   "metadata": {},
   "outputs": [],
   "source": [
    "C_train = C[train_idx]\n",
    "Y_train_cpt = np.argmax(Y_train, axis=1)\n",
    "Y_pred = []\n",
    "dataloader_train = DataLoader(dataset_train, batch_size=config.bsz, shuffle=False)\n",
    "for inputs, targets in dataloader_train:\n",
    "  inputs, targets = inputs.to(\"cuda\"), targets.to(\"cuda\")\n",
    "  outputs = model_best(inputs)\n",
    "  _, predicted = torch.max(F.softmax(outputs, dim=1), 1)\n",
    "  Y_pred.append(predicted.cpu().numpy())\n",
    "Y_pred_cpt = np.concatenate(Y_pred, axis=0)"
   ]
  },
  {
   "cell_type": "code",
   "execution_count": 26,
   "metadata": {},
   "outputs": [
    {
     "name": "stdout",
     "output_type": "stream",
     "text": [
      "Accuracy: 1.0000\n"
     ]
    }
   ],
   "source": [
    "from sklearn.metrics import accuracy_score\n",
    "\n",
    "accuracy = accuracy_score(Y_train_cpt, Y_pred_cpt)\n",
    "print(f\"Accuracy: {accuracy:.4f}\")"
   ]
  },
  {
   "cell_type": "code",
   "execution_count": 29,
   "metadata": {},
   "outputs": [
    {
     "name": "stderr",
     "output_type": "stream",
     "text": [
      "/opt/conda/lib/python3.10/site-packages/statsmodels/base/model.py:595: HessianInversionWarning: Inverting hessian failed, no bse or cov_params available\n",
      "  warnings.warn('Inverting hessian failed, no bse or cov_params '\n",
      "Permuting: 100%|██████████| 1000/1000 [00:23<00:00, 42.65it/s]"
     ]
    },
    {
     "name": "stdout",
     "output_type": "stream",
     "text": [
      "0.0\n"
     ]
    },
    {
     "name": "stderr",
     "output_type": "stream",
     "text": [
      "\n"
     ]
    }
   ],
   "source": [
    "from mlconfound.stats import partial_confound_test\n",
    "\n",
    "ret = partial_confound_test(Y_train_cpt, Y_pred_cpt, C_train, cat_y=True, cat_yhat=True, cat_c=False)\n",
    "print(ret.p)"
   ]
  }
 ],
 "metadata": {
  "kernelspec": {
   "display_name": "pytorch2.0",
   "language": "python",
   "name": "python3"
  },
  "language_info": {
   "codemirror_mode": {
    "name": "ipython",
    "version": 3
   },
   "file_extension": ".py",
   "mimetype": "text/x-python",
   "name": "python",
   "nbconvert_exporter": "python",
   "pygments_lexer": "ipython3",
   "version": "3.10.14"
  }
 },
 "nbformat": 4,
 "nbformat_minor": 2
}
